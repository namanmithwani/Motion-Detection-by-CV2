{
 "cells": [
  {
   "cell_type": "code",
   "execution_count": 1,
   "metadata": {},
   "outputs": [],
   "source": [
    "import cv2, time\n",
    "from datetime import datetime\n",
    "import pandas as pandas"
   ]
  },
  {
   "cell_type": "code",
   "execution_count": 2,
   "metadata": {},
   "outputs": [],
   "source": [
    "first_frame=None\n",
    "status_list=[None,None]\n",
    "times=[]\n",
    "df=pandas.DataFrame(columns=[\"Start\",\"End\"])"
   ]
  },
  {
   "cell_type": "code",
   "execution_count": 3,
   "metadata": {},
   "outputs": [],
   "source": [
    "video=cv2.VideoCapture(0)\n"
   ]
  },
  {
   "cell_type": "code",
   "execution_count": 4,
   "metadata": {},
   "outputs": [
    {
     "name": "stdout",
     "output_type": "stream",
     "text": [
      "[1, 1]\n",
      "[datetime.datetime(2020, 2, 16, 23, 25, 6, 470274), datetime.datetime(2020, 2, 16, 23, 27, 3, 420105)]\n",
      "[1, 1]\n",
      "[datetime.datetime(2020, 2, 16, 23, 25, 6, 470274), datetime.datetime(2020, 2, 16, 23, 27, 3, 420105)]\n"
     ]
    },
    {
     "data": {
      "text/plain": [
       "<function destroyAllWindows>"
      ]
     },
     "execution_count": 4,
     "metadata": {},
     "output_type": "execute_result"
    }
   ],
   "source": [
    "\n",
    "while True:\n",
    "    check, frame = video.read()\n",
    "    status=0\n",
    "    gray=cv2.cvtColor(frame,cv2.COLOR_BGR2GRAY)\n",
    "    gray=cv2.GaussianBlur(gray,(21,21),0)\n",
    "\n",
    "    if first_frame is None:\n",
    "        first_frame=gray\n",
    "        continue\n",
    "\n",
    "    delta_frame=cv2.absdiff(first_frame,gray)\n",
    "    thresh_frame=cv2.threshold(delta_frame, 30, 255, cv2.THRESH_BINARY)[1]\n",
    "    thresh_frame=cv2.dilate(thresh_frame, None, iterations=2)\n",
    "\n",
    "    (cnts,_)=cv2.findContours(thresh_frame.copy(),cv2.RETR_EXTERNAL, cv2.CHAIN_APPROX_SIMPLE)\n",
    "\n",
    "    for contours in cnts:\n",
    "        if cv2.contourArea(contours) < 10000:\n",
    "            continue\n",
    "        status=1\n",
    "\n",
    "        (x, y, w, h)=cv2.boundingRect(contours)\n",
    "        cv2.rectangle(frame, (x, y), (x+w, y+h), (0,255,0), 3)\n",
    "    status_list.append(status)\n",
    "\n",
    "    status_list=status_list[-2:]\n",
    "\n",
    "\n",
    "    if status_list[-1]==1 and status_list[-2]==0:\n",
    "        times.append(datetime.now())\n",
    "    if status_list[-1]==0 and status_list[-2]==1:\n",
    "        times.append(datetime.now())\n",
    "\n",
    "\n",
    "    cv2.imshow(\"Gray Frame\",gray)\n",
    "    cv2.imshow(\"Delta Frame\",delta_frame)\n",
    "    cv2.imshow(\"Threshold Frame\",thresh_frame)\n",
    "    cv2.imshow(\"Color Frame\",frame)\n",
    "\n",
    "    key=cv2.waitKey(1)\n",
    "\n",
    "    if key==ord('q'):\n",
    "        if status==1:\n",
    "            times.append(datetime.now())\n",
    "        break\n",
    "        \n",
    "print(status_list)\n",
    "print(times)\n",
    "\n",
    "for i in range(0,len(times),2):\n",
    "    df=df.append({\"Start\":times[i],\"End\":times[i+1]},ignore_index=True)\n",
    "\n",
    "df.to_csv(\"Times.csv\")\n",
    "\n",
    "video.release()\n",
    "cv2.destroyAllWindows\n",
    "print(status_list)\n",
    "print(times)\n",
    "\n",
    "for i in range(0,len(times),2):\n",
    "    df=df.append({\"Start\":times[i],\"End\":times[i+1]},ignore_index=True)\n",
    "\n",
    "df.to_csv(\"Times.csv\")\n",
    "\n",
    "video.release()\n",
    "cv2.destroyAllWindows\n"
   ]
  },
  {
   "cell_type": "code",
   "execution_count": 20,
   "metadata": {},
   "outputs": [
    {
     "name": "stdout",
     "output_type": "stream",
     "text": [
      "[1, 1]\n",
      "[datetime.datetime(2020, 2, 14, 22, 10, 14, 375718), datetime.datetime(2020, 2, 14, 22, 10, 39, 312825)]\n"
     ]
    },
    {
     "data": {
      "text/plain": [
       "<function destroyAllWindows>"
      ]
     },
     "execution_count": 20,
     "metadata": {},
     "output_type": "execute_result"
    }
   ],
   "source": []
  },
  {
   "cell_type": "code",
   "execution_count": null,
   "metadata": {},
   "outputs": [],
   "source": []
  }
 ],
 "metadata": {
  "kernelspec": {
   "display_name": "Python 3",
   "language": "python",
   "name": "python3"
  },
  "language_info": {
   "codemirror_mode": {
    "name": "ipython",
    "version": 3
   },
   "file_extension": ".py",
   "mimetype": "text/x-python",
   "name": "python",
   "nbconvert_exporter": "python",
   "pygments_lexer": "ipython3",
   "version": "3.7.3"
  }
 },
 "nbformat": 4,
 "nbformat_minor": 2
}
